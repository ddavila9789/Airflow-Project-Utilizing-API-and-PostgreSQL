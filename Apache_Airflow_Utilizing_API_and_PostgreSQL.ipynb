{
  "nbformat": 4,
  "nbformat_minor": 0,
  "metadata": {
    "colab": {
      "provenance": [],
      "authorship_tag": "ABX9TyOOkCbkSFqkdpvCWqb0DD+8",
      "include_colab_link": true
    },
    "kernelspec": {
      "name": "python3",
      "display_name": "Python 3"
    },
    "language_info": {
      "name": "python"
    }
  },
  "cells": [
    {
      "cell_type": "markdown",
      "metadata": {
        "id": "view-in-github",
        "colab_type": "text"
      },
      "source": [
        "<a href=\"https://colab.research.google.com/github/ddavila9789/Apache-Airflow-Utilizing-API-and-PostgreSQL/blob/main/Apache_Airflow_Utilizing_API_and_PostgreSQL.ipynb\" target=\"_parent\"><img src=\"https://colab.research.google.com/assets/colab-badge.svg\" alt=\"Open In Colab\"/></a>"
      ]
    },
    {
      "cell_type": "code",
      "execution_count": null,
      "metadata": {
        "id": "G8whxXd8-Bex"
      },
      "outputs": [],
      "source": [
        "from airflow import DAG\n",
        "from datetime import datetime\n",
        "from airflow.providers.postgres.operators.postgres import PostgresOperator\n",
        "from airflow.providers.http.sensors.http import HttpSensor\n",
        "from airflow.providers.http.operators.http import SimpleHttpOperator\n",
        "from airflow.operators.python import PythonOperator\n",
        "from airflow.providers.postgres.hooks.postgres import PostgresHook\n",
        "import json\n",
        "from pandas import json_normalize\n",
        "\n",
        "\n",
        "def _process_user(ti):\n",
        "    user = ti.xcom_pull(task_ids = \"extract_user\")\n",
        "    user = user['results'][0]\n",
        "    processed_user = json_normalize({\n",
        "        'firstname' : user['name']['first'],\n",
        "        'lastname' : user['name']['last'],\n",
        "        'country' : user['location']['country'],\n",
        "        'username' : user['login']['username'],\n",
        "        'password' : user['login']['password'],\n",
        "        'email' : user['email']\n",
        "    })\n",
        "    processed_user.to_csv('/tmp/processed_user.csv', index=None, header=False)\n",
        "\n",
        "\n",
        "def _store_user():\n",
        "    hook = PostgresHook(postgres_conn_id = 'postgres')\n",
        "    hook.copy_expert(\n",
        "        sql = \"COPY users FROM stdin WITH DELIMITER as ','\",\n",
        "        filename = '/tmp/processed_user.csv'\n",
        "    )\n",
        "\n",
        "\n",
        "with DAG('user_processing', start_date=datetime(2024, 2, 23),\n",
        "         schedule_interval='@daily', catchup=False) as dag:\n",
        "\n",
        "    create_table = PostgresOperator(\n",
        "        task_id = 'create_table',\n",
        "        postgres_conn_id = 'postgres',\n",
        "        sql = '''\n",
        "                CREATE TABLE IF NOT EXISTS users (\n",
        "                firstname TEXT NOT NULL,\n",
        "                lastname TEXT NOT NULL,\n",
        "                country TEXT NOT NULL,\n",
        "                username TEXT NOT NULL,\n",
        "                password TEXT NOT NULL,\n",
        "                email TEXT NOT NULL);\n",
        "            '''\n",
        "    )\n",
        "\n",
        "    is_api_available = HttpSensor(\n",
        "        task_id = 'is_api_available',\n",
        "        http_conn_id = 'user_api',\n",
        "        endpoint = 'api/'\n",
        "    )\n",
        "\n",
        "    extract_user = SimpleHttpOperator(\n",
        "        task_id = 'extract_user',\n",
        "        http_conn_id = 'user_api',\n",
        "        endpoint = 'api/',\n",
        "        method = 'GET',\n",
        "        response_filter = lambda response: json.loads(response.text),\n",
        "        log_response = True\n",
        "    )\n",
        "\n",
        "    process_user = PythonOperator(\n",
        "        task_id = 'process_user',\n",
        "        python_callable = _process_user\n",
        "    )\n",
        "\n",
        "    store_user = PythonOperator(\n",
        "        task_id = 'store_user',\n",
        "        python_callable = _store_user\n",
        "    )\n",
        "\n",
        "\n",
        "\n",
        "    create_table >> is_api_available >> extract_user >> process_user >> store_user"
      ]
    }
  ]
}